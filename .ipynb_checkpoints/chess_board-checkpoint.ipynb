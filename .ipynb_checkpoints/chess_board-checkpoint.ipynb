{
 "cells": [
  {
   "cell_type": "markdown",
   "metadata": {},
   "source": [
    "# chess bord"
   ]
  },
  {
   "cell_type": "code",
   "execution_count": 57,
   "metadata": {},
   "outputs": [
    {
     "data": {
      "image/png": "[encoded data removed]",
      "text/plain": [
       "<Figure size 432x288 with 1 Axes>"
      ]
     },
     "metadata": {
      "needs_background": "light"
     },
     "output_type": "display_data"
    }
   ],
   "source": [
    "import numpy as np\n",
    "from matplotlib import pyplot as plt\n",
    "class ChessBoard :\n",
    "    def __init__ (self):\n",
    "        self.red_queen_row = 0\n",
    "        self.red_queen_column = 0\n",
    "        self.blue_queen_row = 1\n",
    "        self.blue_queen_column = 1\n",
    "        self.grid = np.zeros((8,8,3))\n",
    "        \n",
    "        for i in range(8):\n",
    "            if i % 2 == 0 :\n",
    "                for sub in range(4):\n",
    "                    self.grid [i][sub*2] =(1,1,1)\n",
    "            else :\n",
    "                for sub in range(4):\n",
    "                    self.grid [i][sub*2-1] =(1,1,1)\n",
    "        \n",
    "    def add_red (self,row,column):\n",
    "        self.red_queen_row = row\n",
    "        self.red_queen_column = column\n",
    "        \n",
    "    def add_blue (self,row,column):\n",
    "        self.blue_queen_row = row\n",
    "        self.blue_queen_column = column\n",
    "    \n",
    "    def render (self):\n",
    "        self.grid [self.blue_queen_row][self.blue_queen_column] =(0,1,1)\n",
    "        self.grid [self.red_queen_row][self.red_queen_column] =(1,0,0)\n",
    "        plt.imshow(self.grid)\n",
    "    def is_under_attack (self):\n",
    "        self.under_attack = False\n",
    "        if self.red_queen_row == self.blue_queen_row :\n",
    "            self.under_attack = True\n",
    "        if self.red_queen_column == self.blue_queen_column :\n",
    "            self.under_attack = True\n",
    "        if self.red_queen_column - self.red_queen_row == self.blue_queen_column - self.blue_queen_row :\n",
    "            self.under_attack = True\n",
    "        if self.red_queen_column + self.red_queen_row == self.blue_queen_column + self.blue_queen_row :\n",
    "            self.under_attack = True       \n",
    "        return self.under_attack\n",
    "        \n",
    "chess = ChessBoard()\n",
    "chess.add_blue(5,7)\n",
    "chess.add_red(7,5)\n",
    "chess.is_under_attack()\n",
    "chess.render()"
   ]
  },
  {
   "cell_type": "markdown",
   "metadata": {},
   "source": [
    "# Tests"
   ]
  },
  {
   "cell_type": "code",
   "execution_count": 62,
   "metadata": {},
   "outputs": [],
   "source": [
    "chess = ChessBoard()\n",
    "# queens on same row should be “under attack”\n",
    "chess.add_blue(5,1)\n",
    "chess.add_red(5,2)\n",
    "expected = True\n",
    "actual = chess.is_under_attack()\n",
    "assert expected == actual\n",
    "# queens on same column should be “under attack”\n",
    "chess.add_blue(1,4)\n",
    "chess.add_red(2,4)\n",
    "expected = True\n",
    "actual = chess.is_under_attack()\n",
    "assert expected == actual\n",
    "# queens on same diagonal should be “under attack”\n",
    "chess.add_blue(1,1)\n",
    "chess.add_red(3,3)\n",
    "expected = True\n",
    "actual = chess.is_under_attack()\n",
    "assert expected == actual\n",
    "# queens with any other coordinates should NOT be “under attack”\n",
    "chess.add_blue(1,1)\n",
    "chess.add_red(2,5)\n",
    "expected = False\n",
    "actual = chess.is_under_attack()\n",
    "assert expected == actual"
   ]
  },
  {
   "cell_type": "code",
   "execution_count": null,
   "metadata": {},
   "outputs": [],
   "source": []
  }
 ],
 "metadata": {
  "kernelspec": {
   "display_name": "Python 3",
   "language": "python",
   "name": "python3"
  },
  "language_info": {
   "codemirror_mode": {
    "name": "ipython",
    "version": 3
   },
   "file_extension": ".py",
   "mimetype": "text/x-python",
   "name": "python",
   "nbconvert_exporter": "python",
   "pygments_lexer": "ipython3",
   "version": "3.9.4"
  },
  "metadata": {
   "interpreter": {
    "hash": "7d6993cb2f9ce9a59d5d7380609d9cb5192a9dedd2735a011418ad9e827eb538"
   }
  }
 },
 "nbformat": 4,
 "nbformat_minor": 2
}
